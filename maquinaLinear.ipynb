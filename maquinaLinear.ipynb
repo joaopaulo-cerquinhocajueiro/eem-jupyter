{
 "cells": [
  {
   "cell_type": "markdown",
   "metadata": {},
   "source": [
    "# Máquina Linear\n",
    "\n",
    "$$F_{ind} = i l B$$\n",
    "$$F_t = F_{ind}+F_{apl} = m a$$\n",
    "$$e_{ind} = v B l$$\n",
    "$$V_B = e_{ind} + i R$$"
   ]
  },
  {
   "cell_type": "code",
   "execution_count": 1,
   "metadata": {},
   "outputs": [],
   "source": [
    "# Bibliotecas do python\n",
    "import numpy as np # para arrays mais eficientes e várias funções matemáticas\n",
    "import matplotlib.pyplot as plt # para fazer gráficos\n",
    "import ipywidgets as wdgts # Para fazer partes interativas"
   ]
  },
  {
   "cell_type": "code",
   "execution_count": 2,
   "metadata": {},
   "outputs": [],
   "source": [
    "# Função que faz vários gráficos de máquina linear\n",
    "def maquinaLinear(VB = 200, Fapl = 0, R = 0.1, B = 0.2, l = 0.1, m = 0.497, T = 500, dt = 0.1):\n",
    "    '''Produz os gráficos de tensão induzida, corrente no laço, velocidade e Força induzida e Potência.\n",
    "    VB - Tensão da bateria em Volts\n",
    "    Fapl - Força aplicada em N. Positiva no sentido do movimento.\n",
    "    R - Resistência do laço em Ohms.\n",
    "    B - Densidade do campo magnético em Tesla.\n",
    "    l - distância entre os trilhos, em metros.\n",
    "    m - Massa, em kilogramas.\n",
    "    T - Período da simulação, em segundos.\n",
    "    dt - Passo da simulação, em segundos.'''\n",
    "    fig = plt.figure(figsize=(16, 6), dpi=80)\n",
    "    v0 = 0\n",
    "    dt = 0.1\n",
    "    T = 500\n",
    "    index = 0\n",
    "    t0 = 0\n",
    "    t = np.arange(t0,T+t0+dt,dt)\n",
    "    eind = []\n",
    "    i = []\n",
    "    Find = []\n",
    "    v = [v0]\n",
    "    Pel = []\n",
    "    Pmec = []\n",
    "    while index*dt <= T:\n",
    "        eind.append(v[index]*B*l)\n",
    "        i.append((VB-eind[index])/R)\n",
    "        Find.append(i[index]*l*B)\n",
    "        Ft = Find[index]+Fapl\n",
    "        a = Ft/m\n",
    "        Pel.append(eind[index]*i[index])\n",
    "        Pmec.append(Find[index]*v[index])\n",
    "        v.append(v[index] + a * dt)\n",
    "        index = index + 1\n",
    "    v.pop()\n",
    "    ax1 = fig.add_subplot(2,2,1)\n",
    "    ax1b = ax1.twinx()\n",
    "    ax2 = fig.add_subplot(2,2,3)\n",
    "    ax2b = ax2.twinx()\n",
    "    ax3 = fig.add_subplot(1,2,2)\n",
    "    ax1.plot (t, eind, color=\"blue\", lw=2)\n",
    "    ax1b.plot (t, i, color=\"red\", lw=2)\n",
    "    ax1.set_ylabel(\"Tensão induzida [V] azul\")\n",
    "    ax1b.set_ylabel(\"Corrente [A] vermelho\")\n",
    "    ax2.plot (t, v, color=\"blue\", lw=2)\n",
    "    ax2b.plot (t, Find, color=\"red\", lw=2)\n",
    "    ax2.set_ylabel(\"Velocidade [m/s] azul\")\n",
    "    ax2b.set_ylabel(\"Força [N] vermelho\")\n",
    "    ax2.set_xlabel(\"Tempo [s]\")\n",
    "    ax3.plot(t,Pel, color=\"blue\", lw=2)\n",
    "    ax3.plot(t,Pmec, color=\"red\", lw=2)\n",
    "    ax3.set_ylabel(\"Potência [W]\")\n",
    "    ax3.set_xlabel(\"Tempo [s]\")"
   ]
  },
  {
   "cell_type": "code",
   "execution_count": 4,
   "metadata": {},
   "outputs": [
    {
     "data": {
      "application/vnd.jupyter.widget-view+json": {
       "model_id": "8c716eba612d4f9895bd282e537203d5",
       "version_major": 2,
       "version_minor": 0
      },
      "text/plain": [
       "HBox(children=(interactive(children=(FloatSlider(value=200.0, description='Tensão da bateria', max=400.0), Flo…"
      ]
     },
     "metadata": {},
     "output_type": "display_data"
    }
   ],
   "source": [
    "# Gráfico com Sliders para vários parâmetros da máquina linear\n",
    "VBw=wdgts.FloatSlider(min=0,max=400,value=200,description=\"Tensão da bateria\")\n",
    "Faplw=wdgts.FloatSlider(min=-1.0,max=1.0,value=0.0,description=\"Força aplicada\")\n",
    "Rw=wdgts.FloatSlider(min=0.1,max=10.0,value=0.1,description=\"Resistência\")\n",
    "Bw=wdgts.FloatSlider(min=0.1,max=50.0,value=0.2,description=\"Campo Magnético\")\n",
    "lw=wdgts.FloatSlider(min=0.01,max=1.0,value=0.1,description=\"Comprimento\")\n",
    "mw=wdgts.FloatSlider(min=0.1,max=10,value=0.497,description=\"Massa\")\n",
    "leftBox = wdgts.VBox([VBw,Faplw,Rw,Bw,lw,mw])\n",
    "#leftBox\n",
    "plots = wdgts.interactive(maquinaLinear,\n",
    "              VB=VBw,\n",
    "              Fapl=Faplw,\n",
    "              R=Rw,\n",
    "              B=Bw,\n",
    "              l=lw,\n",
    "              m=mw)\n",
    "rightBox = wdgts.HBox([plots])\n",
    "rightBox"
   ]
  },
  {
   "cell_type": "code",
   "execution_count": 5,
   "metadata": {},
   "outputs": [],
   "source": [
    "# Função que faz vários gráficos até o comprimento de trilho dist\n",
    "def maquinaLinear2(VB = 200, Fapl = 0, R = 0.1, B = 0.2, l = 0.1, m = 0.497,dist=2, dt = 0.001):\n",
    "    '''Produz os gráficos de tensão induzida, corrente no laço, velocidade e Força induzida e Potência.\n",
    "    VB - Tensão da bateria em Volts\n",
    "    Fapl - Força aplicada em N. Positiva no sentido do movimento.\n",
    "    R - Resistência do laço em Ohms.\n",
    "    B - Densidade do campo magnético em Tesla.\n",
    "    l - distância entre os trilhos, em metros.\n",
    "    m - Massa, em kilogramas.\n",
    "    dist - Comprimento do trilho, em metros.\n",
    "    dt - Passo da simulação, em segundos.'''\n",
    "    fig = plt.figure(figsize=(16, 6), dpi=80)\n",
    "    v0 = 0\n",
    "    dt = 0.001\n",
    "    index = 0\n",
    "    t0 = 0\n",
    "    t=[t0]\n",
    "#     t = np.arange(t0,T+t0+dt,dt)\n",
    "    eind = []\n",
    "    i = []\n",
    "    Find = []\n",
    "    v = [v0]\n",
    "    x0 = 0\n",
    "    x = [x0]\n",
    "    Pel = []\n",
    "    Pmec = []\n",
    "    #while index*dt <= T:\n",
    "    while x[-1] <= dist:\n",
    "        eind.append(v[index]*B*l)\n",
    "        i.append((VB-eind[index])/R)\n",
    "        Find.append(i[index]*l*B)\n",
    "        Ft = Find[index]+Fapl\n",
    "        a = Ft/m\n",
    "        Pel.append(eind[index]*i[index])\n",
    "        Pmec.append(Find[index]*v[index])\n",
    "        t.append(t[index]+dt)\n",
    "        v.append(v[index] + a * dt)\n",
    "        x.append(x[index] + v[index] * dt)\n",
    "        index = index + 1\n",
    "#         print(x[-1])\n",
    "    t.pop()\n",
    "    v.pop()\n",
    "    x.pop()\n",
    "    ax1 = fig.add_subplot(2,2,1)\n",
    "    ax1b = ax1.twinx()\n",
    "    ax2 = fig.add_subplot(2,2,3)\n",
    "    ax2b = ax2.twinx()\n",
    "    ax3 = fig.add_subplot(1,2,2)\n",
    "    ax1.plot (t, eind, color=\"blue\", lw=2)\n",
    "    ax1b.plot (t, i, color=\"red\", lw=2)\n",
    "    ax1.set_ylabel(\"Tensão induzida [V] azul\")\n",
    "    ax1b.set_ylabel(\"Corrente [A] vermelho\")\n",
    "    ax2.plot (t, v, color=\"blue\", lw=2)\n",
    "    ax2b.plot (t, Find, color=\"red\", lw=2)\n",
    "    ax2.set_ylabel(\"Velocidade [m/s] azul\")\n",
    "    ax2b.set_ylabel(\"Força [N] vermelho\")\n",
    "    ax2.set_xlabel(\"Tempo [s]\")\n",
    "    ax3.plot(t,Pel, color=\"blue\", lw=2)\n",
    "    ax3.plot(t,Pmec, color=\"red\", lw=2)\n",
    "    ax3.set_ylabel(\"Potência [W]\")\n",
    "    ax3.set_xlabel(\"Tempo [s]\")"
   ]
  },
  {
   "cell_type": "code",
   "execution_count": 6,
   "metadata": {},
   "outputs": [
    {
     "data": {
      "application/vnd.jupyter.widget-view+json": {
       "model_id": "5144c782d9244271ac44f11cab4568c6",
       "version_major": 2,
       "version_minor": 0
      },
      "text/plain": [
       "HBox(children=(interactive(children=(FloatSlider(value=200.0, description='Tensão da bateria', max=400.0), Flo…"
      ]
     },
     "metadata": {},
     "output_type": "display_data"
    }
   ],
   "source": [
    "# Gráfico com Sliders para vários parâmetros da máquina linear\n",
    "VBw=wdgts.FloatSlider(min=0,max=400,value=200,description=\"Tensão da bateria\")\n",
    "Faplw=wdgts.FloatSlider(min=-1.0,max=1.0,value=0.0,description=\"Força aplicada\")\n",
    "Rw=wdgts.FloatSlider(min=0.1,max=10.0,value=0.1,description=\"Resistência\")\n",
    "Bw=wdgts.FloatSlider(min=0.1,max=50.0,value=0.2,description=\"Campo Magnético\")\n",
    "lw=wdgts.FloatSlider(min=0.01,max=1.0,value=0.1,description=\"Comprimento\")\n",
    "mw=wdgts.FloatSlider(min=0.1,max=10,value=0.497,description=\"Massa\")\n",
    "leftBox = wdgts.VBox([VBw,Faplw,Rw,Bw,lw,mw])\n",
    "#leftBox\n",
    "plots = wdgts.interactive(maquinaLinear2,\n",
    "              VB=VBw,\n",
    "              Fapl=Faplw,\n",
    "              R=Rw,\n",
    "              B=Bw,\n",
    "              l=lw,\n",
    "              m=mw)\n",
    "rightBox = wdgts.HBox([plots])\n",
    "rightBox"
   ]
  },
  {
   "cell_type": "code",
   "execution_count": null,
   "metadata": {
    "collapsed": true
   },
   "outputs": [],
   "source": []
  }
 ],
 "metadata": {
  "kernelspec": {
   "display_name": "'Python Interactive'",
   "language": "python",
   "name": "dbd88477-a4ce-41cd-9d27-5a6b7cc5a9f3"
  },
  "language_info": {
   "codemirror_mode": {
    "name": "ipython",
    "version": 3
   },
   "file_extension": ".py",
   "mimetype": "text/x-python",
   "name": "python",
   "nbconvert_exporter": "python",
   "pygments_lexer": "ipython3",
   "version": "3.6.7"
  }
 },
 "nbformat": 4,
 "nbformat_minor": 2
}
