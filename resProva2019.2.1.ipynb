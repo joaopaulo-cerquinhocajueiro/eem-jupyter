{
 "cells": [
  {
   "cell_type": "code",
   "execution_count": 4,
   "metadata": {
    "collapsed": true
   },
   "outputs": [],
   "source": [
    "import numpy as np"
   ]
  },
  {
   "cell_type": "markdown",
   "metadata": {},
   "source": [
    "# Resolução da prova 2019.2.1\n",
    "\n",
    "## Questão 1"
   ]
  },
  {
   "cell_type": "code",
   "execution_count": 3,
   "metadata": {
    "collapsed": false
   },
   "outputs": [
    {
     "name": "stdout",
     "output_type": "stream",
     "text": [
      "A velocidade é de -600.0 m/s.\n"
     ]
    }
   ],
   "source": [
    "Vb=10\n",
    "R=1\n",
    "m=0.1\n",
    "B=1\n",
    "Fapl=-2\n",
    "l=0.05\n",
    "Find = -Fapl\n",
    "i = Find/(B*l)\n",
    "eind = Vb-i*R\n",
    "v = eind/(B*l)\n",
    "print(\"A velocidade é de {} m/s.\".format(v))"
   ]
  },
  {
   "cell_type": "markdown",
   "metadata": {},
   "source": [
    "Note-se que a velocidade é negativa, logo a força contrária não é aplicada contrária ao movimento (!?). Erro na escrita da questão"
   ]
  },
  {
   "cell_type": "markdown",
   "metadata": {},
   "source": [
    "## Questão 2\n",
    "### a)\n",
    "A eficiência depende apenas das resistências:\n",
    "    $$ \\eta  =R_{carga,eq}/R_{total,eq} $$\n",
    "O mais simples é levar para o nível de tensão da carga."
   ]
  },
  {
   "cell_type": "code",
   "execution_count": 7,
   "metadata": {
    "collapsed": false
   },
   "outputs": [
    {
     "name": "stdout",
     "output_type": "stream",
     "text": [
      "A resistência equivalente de linha fica apenas 0.06912 ohms.\n",
      "A eficiência é de 0.9353486979946123\n"
     ]
    }
   ],
   "source": [
    "Rcarga = 1\n",
    "Rlinha = 30\n",
    "Vbase_linha = 10000\n",
    "Vbase_carga = 480\n",
    "Req_linha = Rlinha*(Vbase_carga/Vbase_linha)**2\n",
    "print(\"A resistência equivalente de linha fica apenas {} ohms.\".format(Req_linha))\n",
    "eta = Rcarga/(Rcarga+Req_linha)\n",
    "print(\"A eficiência é de {}\".format(eta))"
   ]
  },
  {
   "cell_type": "markdown",
   "metadata": {},
   "source": [
    "### b)\n",
    "Para T1: ($\\Delta$:Y):\n",
    "$$a_{T1} = \\frac{N1}{N2} = \\frac{\\sqrt{3}V1}{V2}$$\n",
    "Para T2: (Y:$\\Delta$):\n",
    "$$a_{T2} = \\frac{N1}{N2} = \\frac{V1}{\\sqrt{3}V2}$$"
   ]
  },
  {
   "cell_type": "code",
   "execution_count": 13,
   "metadata": {
    "collapsed": false
   },
   "outputs": [
    {
     "name": "stdout",
     "output_type": "stream",
     "text": [
      "A relação de espiras do primeiro transformador é de 17.32050807568877, enquanto que do segundo transformador é de 12.028130608117205\n"
     ]
    }
   ],
   "source": [
    "at1 = np.sqrt(3)*100/(10)\n",
    "at2 = 10000/(np.sqrt(3)*480)\n",
    "print(\"A relação de espiras do primeiro transformador é de {}, enquanto que do segundo transformador é de {}\".format(at1,at2))"
   ]
  },
  {
   "cell_type": "markdown",
   "metadata": {},
   "source": [
    "## Questão 3\n",
    "Lembrando que a relação de espiras do transformador físico é de 1000:200."
   ]
  },
  {
   "cell_type": "markdown",
   "metadata": {},
   "source": [
    "## Questão 4\n",
    "$Xm$ é a reatância de magnetização do núcleo do transformador. Ou seja, modela a energia armazenada no núcleo de um transformador por meio de seu fluxo magnético.\n",
    "\n",
    "## Questão 5"
   ]
  },
  {
   "cell_type": "code",
   "execution_count": 5,
   "metadata": {
    "collapsed": false
   },
   "outputs": [
    {
     "name": "stdout",
     "output_type": "stream",
     "text": [
      "A indutância é de 0.02010619298297468 H.\n"
     ]
    }
   ],
   "source": [
    "N=200\n",
    "Aef = 4e-4\n",
    "lef = 1e-3\n",
    "mu0 = 4e-7*np.pi\n",
    "Ref = lef/(Aef*mu0)\n",
    "L = N**2/Ref\n",
    "print(\"A indutância é de {} H.\".format(L))"
   ]
  },
  {
   "cell_type": "markdown",
   "metadata": {},
   "source": [
    "$$F = \\frac{dE}{dl} = \\frac{d\\left(\\frac{1}{2}L i^2\\right)}{dl} = \\frac{1}{2}i^2\\frac{d\\left(\\frac{N^2}{\\mathfrak{R}}\\right)}{dl} = \\frac{1}{2}(Ni)^2\\frac{d\\left(\\frac{A \\mu}{l}\\right)}{dl}$$"
   ]
  },
  {
   "cell_type": "markdown",
   "metadata": {},
   "source": [
    "$$ F = \\frac{-(Ni)^2A\\mu}{2l^2}$$"
   ]
  },
  {
   "cell_type": "code",
   "execution_count": 6,
   "metadata": {
    "collapsed": false
   },
   "outputs": [
    {
     "name": "stdout",
     "output_type": "stream",
     "text": [
      "A força é de -10.053096491487338 N\n",
      "Como a força é negativa, ela é no sentido de diminuir o espaçamento.\n"
     ]
    }
   ],
   "source": [
    "i = 1\n",
    "F = -((N*i)**2)*Aef*mu0/(2*lef**2)\n",
    "print(\"A força é de {} N\".format(F))\n",
    "if F>0:\n",
    "    print(\"Como a força é positiva, ela é no sentido de aumentar o espaçamento.\")\n",
    "else:\n",
    "    print(\"Como a força é negativa, ela é no sentido de diminuir o espaçamento.\")        "
   ]
  },
  {
   "cell_type": "code",
   "execution_count": null,
   "metadata": {
    "collapsed": true
   },
   "outputs": [],
   "source": []
  }
 ],
 "metadata": {
  "kernelspec": {
   "display_name": "'Python Interactive'",
   "language": "python",
   "name": "dbd88477-a4ce-41cd-9d27-5a6b7cc5a9f3"
  },
  "language_info": {
   "codemirror_mode": {
    "name": "ipython",
    "version": 3
   },
   "file_extension": ".py",
   "mimetype": "text/x-python",
   "name": "python",
   "nbconvert_exporter": "python",
   "pygments_lexer": "ipython3",
   "version": "3.6.7"
  }
 },
 "nbformat": 4,
 "nbformat_minor": 2
}
