{
 "cells": [
  {
   "cell_type": "markdown",
   "metadata": {},
   "source": [
    "# Resolução da prova 2019.2\n",
    "\n",
    "## Questão 1\n",
    "Explique a diferença entre acionar um motor de passo por passo completo\n",
    "(full step) e meio passo (half step).\n",
    "\n",
    "### Resolução\n",
    "Em passo completo se aciona 2 bobinas de cada vez entre um passo e outro, tal como: +a+b, +a-b, -a-b, -a+b, +a+b, etc.\n",
    "\n",
    "Em meio passo, se adiciona um passo intermediário onde só se aciona uma bobina de cada vez, como: +a+b, +a, +a-b, -b, -a-b, -a, -a+b, +b, +a+b, etc.\n",
    "\n",
    "## Questão 2\n",
    "O que é necessário fazer para inverter o sentido de rotação de um motor\n",
    "de passo?\n",
    "\n",
    "### Resolução\n",
    "O mais comum é simplesmente reverter a sequencia de comando do motor de passo. Agora também é possível obter o mesmo efeito revertendo a polaridade de uma das bobinas.\n",
    "\n",
    "Exemplo: horário: +a+b, +a-b, -a-b, -a+b, +a+b; anti-horário: +a+b, -a+b, -a-b, +a-b, +a+b.\n",
    "\n",
    "## Questão 3\n",
    "Um motor CC em derivação operando a 300 V gira a 200 rpm quando tem\n",
    "um torque de 100 Nm como carga. Considerando um fluxo total por polo\n",
    "de 5mWb e um K' de 25, determine:\n",
    "\n",
    "(a) Qual é a tensão induzida?\n",
    "\n",
    "(b) Qual a corrente de armadura?\n",
    "\n",
    "(c) Qual é a resistência de armadura?\n",
    "\n",
    "(d) Qual a eficiência deste motor, considerando apenas a resistência de\n",
    "armadura e desprezando a corrente de fluxo?\n",
    "\n",
    "### Resolução\n",
    "(a) $$ E_a = k'\\phi n_m $$\n",
    "\n",
    "(b) $$ P_{conv} = E_aI_a = \\tau\\omega_m$$\n",
    "$$I_a = \\frac{\\tau n_m (2\\pi)/180}{E_a} $$\n",
    "\n",
    "(c) $$E_a = V_T - R_aI_a \\leftrightarrow R_a = \\frac{V_T - E_a}{I_a} $$\n",
    "\n",
    "(d) $$P_{ent} = V_TI_a $$\n",
    "$$P_{sai} = P_{conv} - P_{perdas} = p_{conv} = E_aI_a $$\n",
    "$$\\eta = \\frac{P_{sai}}{P_{ent}} = \\frac{E_aI_a}{V_TI_a} = E_a/V_T $$"
   ]
  },
  {
   "cell_type": "code",
   "execution_count": 1,
   "metadata": {
    "collapsed": false
   },
   "outputs": [
    {
     "name": "stdout",
     "output_type": "stream",
     "text": [
      "a: 25.0 V. b: 27.925268031909273 A. c: 9.847712103811023 Ω. d: 0.08333333333333333.\n"
     ]
    }
   ],
   "source": [
    "import numpy as np\n",
    "VT = 300\n",
    "nm = 200\n",
    "tau = 100\n",
    "phi = 0.005\n",
    "kl = 25\n",
    "Ea = kl*phi*nm\n",
    "Ia = tau*nm*2*np.pi/(180*Ea)\n",
    "Ra = (VT-Ea)/Ia\n",
    "eta = Ea/VT\n",
    "print(\"a: {} V. b: {} A. c: {} Ω. d: {}.\".format(Ea,Ia,Ra,eta))"
   ]
  },
  {
   "cell_type": "markdown",
   "metadata": {},
   "source": [
    "## Questão 4\n",
    "Uma máquina síncrona de 6 polos gera uma tensão induzida eficaz de 480\n",
    "V quando operando a 60 Hz.\n",
    "\n",
    "(a) Qual a velocidade de rotação da mesma? ( É a mesma do campo\n",
    "girante)\n",
    "\n",
    "(b) Qual a tensão induzida eficaz gerada ao se operar a 50 Hz?\n",
    "\n",
    "### Resolução\n",
    "(a) A velocidade de rotação é $f_m = \\frac{2}{P}f_e$.\n",
    "\n",
    "(b) Dado que a tensão induzida é $E_A = K\\phi\\omega = K\\phi 2\\pi f$, seja $K' = K\\phi 2\\pi$, podemos achar o $K'$ e com ele encontrar a nova tensão para 50 Hz."
   ]
  },
  {
   "cell_type": "code",
   "execution_count": 3,
   "metadata": {
    "collapsed": false
   },
   "outputs": [
    {
     "name": "stdout",
     "output_type": "stream",
     "text": [
      "A velocidade de rotação é de 20.0 Hz (1200.0 RPM). A tensão induzida ao se operar a 50 Hz é de 400.0 V\n"
     ]
    }
   ],
   "source": [
    "P = 6\n",
    "fe = 60\n",
    "fm = 2*fe/P\n",
    "\n",
    "Ea60 = 480\n",
    "Kl = Ea60/fe\n",
    "Ea50 = Kl*50\n",
    "print(\"A velocidade de rotação é de {} Hz ({} RPM). A tensão induzida ao se operar a 50 Hz é de {} V\".format(fm,60*fm,Ea50))"
   ]
  },
  {
   "cell_type": "code",
   "execution_count": null,
   "metadata": {
    "collapsed": true
   },
   "outputs": [],
   "source": []
  }
 ],
 "metadata": {
  "kernelspec": {
   "display_name": "'Python Interactive'",
   "language": "python",
   "name": "dbd88477-a4ce-41cd-9d27-5a6b7cc5a9f3"
  },
  "language_info": {
   "codemirror_mode": {
    "name": "ipython",
    "version": 3
   },
   "file_extension": ".py",
   "mimetype": "text/x-python",
   "name": "python",
   "nbconvert_exporter": "python",
   "pygments_lexer": "ipython3",
   "version": "3.6.7"
  }
 },
 "nbformat": 4,
 "nbformat_minor": 2
}
